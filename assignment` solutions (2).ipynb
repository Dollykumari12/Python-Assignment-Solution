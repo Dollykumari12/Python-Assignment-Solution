{
 "cells": [
  {
   "cell_type": "markdown",
   "id": "f03e175e",
   "metadata": {},
   "source": [
    "# Question 1\n",
    "\n"
   ]
  },
  {
   "cell_type": "code",
   "execution_count": 1,
   "id": "4565ba43",
   "metadata": {},
   "outputs": [
    {
     "name": "stdout",
     "output_type": "stream",
     "text": [
      "Enter a string: dad\n",
      "The string is a palindrome.\n"
     ]
    }
   ],
   "source": [
    "def is_palindrome(string):\n",
    "    # Convert the string to lowercase and remove non-alphabetic characters\n",
    "    cleaned_string = ''.join(c.lower() for c in string if c.isalpha())\n",
    "\n",
    "    # Compare the cleaned string with its reverse\n",
    "    return cleaned_string == cleaned_string[::-1]\n",
    "\n",
    "# Example usage\n",
    "string = input(\"Enter a string: \")\n",
    "if is_palindrome(string):\n",
    "    print(\"The string is a palindrome.\")\n",
    "else:\n",
    "    print(\"The string is not a palindrome.\")"
   ]
  },
  {
   "cell_type": "markdown",
   "id": "7cb9ffcd",
   "metadata": {},
   "source": [
    "# Question 2"
   ]
  },
  {
   "cell_type": "code",
   "execution_count": 4,
   "id": "93d6a89e",
   "metadata": {},
   "outputs": [
    {
     "name": "stdout",
     "output_type": "stream",
     "text": [
      "Enter the original string: abcdcdc\n",
      "Enter the substring: cd\n",
      "Number of occurrences: 2\n"
     ]
    }
   ],
   "source": [
    "def count_substring(string, substring):\n",
    "    count = 0\n",
    "    substring_length = len(substring)\n",
    "    for i in range(len(string)):\n",
    "        if string[i:i+substring_length] == substring:\n",
    "            count += 1\n",
    "    return count\n",
    "\n",
    "# Get the input from the user\n",
    "string = input(\"Enter the original string: \")\n",
    "substring = input(\"Enter the substring: \")\n",
    "\n",
    "# Count the occurrences of the substring in the string\n",
    "occurrences = count_substring(string, substring)\n",
    "\n",
    "# Print the result\n",
    "print(\"Number of occurrences:\", occurrences)\n"
   ]
  },
  {
   "cell_type": "markdown",
   "id": "5e7916de",
   "metadata": {},
   "source": [
    "# Question 3\n"
   ]
  },
  {
   "cell_type": "code",
   "execution_count": 1,
   "id": "dec6aaf7",
   "metadata": {},
   "outputs": [
    {
     "name": "stdout",
     "output_type": "stream",
     "text": [
      "Player 1, enter your move (R/P/S): r\n",
      "Player 2, enter your move (R/P/S): p\n",
      "Game 1 : Player 1 = R , Player 2 = P , Winner: Player2\n",
      "Player 1, enter your move (R/P/S): p\n",
      "Player 2, enter your move (R/P/S): r\n",
      "Game 2 : Player 1 = P , Player 2 = R , Winner: Player1\n",
      "Player 1, enter your move (R/P/S): r\n",
      "Player 2, enter your move (R/P/S): s\n",
      "Game 3 : Player 1 = R , Player 2 = S , Winner: Player1\n",
      "Player 1, enter your move (R/P/S): p\n",
      "Player 2, enter your move (R/P/S): p\n",
      "Game 4 : Player 1 = P , Player 2 = P , Winner: Draw\n",
      "Player 1, enter your move (R/P/S): r\n",
      "Player 2, enter your move (R/P/S): r\n",
      "Game 5 : Player 1 = R , Player 2 = R , Winner: Draw\n",
      "Player 1, enter your move (R/P/S): s\n",
      "Player 2, enter your move (R/P/S): r\n",
      "Game 6 : Player 1 = S , Player 2 = R , Winner: Player2\n",
      "Player 1, enter your move (R/P/S): p\n",
      "Player 2, enter your move (R/P/S): r\n",
      "Game 7 : Player 1 = P , Player 2 = R , Winner: Player1\n",
      "Player 1, enter your move (R/P/S): s\n",
      "Player 2, enter your move (R/P/S): s\n",
      "Game 8 : Player 1 = S , Player 2 = S , Winner: Draw\n",
      "Player 1, enter your move (R/P/S): r\n",
      "Player 2, enter your move (R/P/S): s\n",
      "Game 9 : Player 1 = R , Player 2 = S , Winner: Player1\n",
      "Player 1, enter your move (R/P/S): p\n",
      "Player 2, enter your move (R/P/S): r\n",
      "Game 10 : Player 1 = P , Player 2 = R , Winner: Player1\n",
      "Final Winner: Player1\n"
     ]
    }
   ],
   "source": [
    "# Function to determine the winner between two moves\n",
    "def determine_winner(player1_move, player2_move):\n",
    "    if player1_move == player2_move:\n",
    "        return \"Draw\"\n",
    "    \n",
    "    if (player1_move == 'R' and player2_move == 'S') or (player1_move == 'S' and player2_move == 'P') or (player1_move == 'P' and player2_move == 'R'):\n",
    "        return \"Player1\"\n",
    "    \n",
    "    return \"Player2\"\n",
    "\n",
    "# Play the game for 10 rounds\n",
    "rounds = 10\n",
    "player1_wins = 0\n",
    "player2_wins = 0\n",
    "\n",
    "for i in range(rounds):\n",
    "    player1_move = input(\"Player 1, enter your move (R/P/S): \").upper()\n",
    "    player2_move = input(\"Player 2, enter your move (R/P/S): \").upper()\n",
    "\n",
    "    winner = determine_winner(player1_move, player2_move)\n",
    "\n",
    "    if winner == \"Player1\":\n",
    "        player1_wins += 1\n",
    "    elif winner == \"Player2\":\n",
    "        player2_wins += 1\n",
    "\n",
    "    print(\"Game\", i+1, \": Player 1 =\", player1_move, \", Player 2 =\", player2_move, \", Winner:\", winner)\n",
    "\n",
    "# Determine the final winner\n",
    "if player1_wins > player2_wins:\n",
    "    print(\"Final Winner: Player1\")\n",
    "elif player1_wins < player2_wins:\n",
    "    print(\"Final Winner: Player2\")\n",
    "else:\n",
    "    print(\"Final Result: Draw\")"
   ]
  },
  {
   "cell_type": "markdown",
   "id": "e1f35053",
   "metadata": {},
   "source": [
    "# Question 4"
   ]
  },
  {
   "cell_type": "code",
   "execution_count": null,
   "id": "dade9ade",
   "metadata": {},
   "outputs": [],
   "source": [
    "import requests\n",
    "import time\n",
    "\n",
    "url = 'https://api.coindesk.com/v1/bpi/currentprice.json'\n",
    "data_points = {}  # Dictionary to store the data points\n",
    "lowest_price = float('inf')  # Initialize with a very high value\n",
    "highest_price = float('-inf')  # Initialize with a very low value\n",
    "\n",
    "# Set the start and end timestamps for 1 day\n",
    "start_timestamp = int(time.time())\n",
    "end_timestamp = start_timestamp + (24 * 60 * 60)\n",
    "\n",
    "# Collect data at 5-minute intervals\n",
    "current_timestamp = start_timestamp\n",
    "while current_timestamp < end_timestamp:\n",
    "    response = requests.get(url)\n",
    "    if response.status_code == 200:\n",
    "        data = response.json()\n",
    "        usd_price = float(data['bpi']['USD']['rate'].replace(',', ''))\n",
    "        gbp_price = float(data['bpi']['GBP']['rate'].replace(',', ''))\n",
    "        \n",
    "        # Store unique data points\n",
    "        if usd_price not in data_points.values() and gbp_price not in data_points.values():\n",
    "            data_points[current_timestamp] = {'USD': usd_price, 'GBP': gbp_price}\n",
    "            \n",
    "            # Check for lowest price\n",
    "            if usd_price < lowest_price:\n",
    "                lowest_price = usd_price\n",
    "            if gbp_price < lowest_price:\n",
    "                lowest_price = gbp_price\n",
    "            \n",
    "            # Check for highest price\n",
    "            if usd_price > highest_price:\n",
    "                highest_price = usd_price\n",
    "            if gbp_price > highest_price:\n",
    "                highest_price = gbp_price\n",
    "        \n",
    "        current_timestamp += 300  # Add 5 minutes (in seconds)\n",
    "        time.sleep(5)  # Pause execution for 5 seconds to avoid rate limiting\n",
    "\n",
    "# Print the collected data points\n",
    "for timestamp, prices in data_points.items():\n",
    "    print(f\"Timestamp: {timestamp}, USD Price: {prices['USD']}, GBP Price: {prices['GBP']}\")\n",
    "\n",
    "# Print the highest and lowest prices\n",
    "print(f\"Highest Price: {highest_price}\")\n",
    "print(f\"Lowest Price: {lowest_price}\")"
   ]
  },
  {
   "cell_type": "code",
   "execution_count": null,
   "id": "19ce95ba",
   "metadata": {},
   "outputs": [],
   "source": []
  }
 ],
 "metadata": {
  "kernelspec": {
   "display_name": "Python 3 (ipykernel)",
   "language": "python",
   "name": "python3"
  },
  "language_info": {
   "codemirror_mode": {
    "name": "ipython",
    "version": 3
   },
   "file_extension": ".py",
   "mimetype": "text/x-python",
   "name": "python",
   "nbconvert_exporter": "python",
   "pygments_lexer": "ipython3",
   "version": "3.9.13"
  }
 },
 "nbformat": 4,
 "nbformat_minor": 5
}
